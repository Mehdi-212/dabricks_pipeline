{
 "cells": [
  {
   "cell_type": "code",
   "execution_count": 0,
   "metadata": {
    "application/vnd.databricks.v1+cell": {
     "cellMetadata": {
      "byteLimit": 2048000,
      "rowLimit": 10000
     },
     "inputWidgets": {},
     "nuid": "d65209d2-6e2d-41a0-9990-96490da04795",
     "showTitle": false,
     "tableResultSettingsMap": {},
     "title": ""
    }
   },
   "outputs": [],
   "source": [
    "import pandas as pd"
   ]
  },
  {
   "cell_type": "code",
   "execution_count": 0,
   "metadata": {
    "application/vnd.databricks.v1+cell": {
     "cellMetadata": {
      "byteLimit": 2048000,
      "rowLimit": 10000
     },
     "inputWidgets": {},
     "nuid": "2a6c4a84-4dea-4e41-92cd-b347b7194815",
     "showTitle": false,
     "tableResultSettingsMap": {},
     "title": ""
    }
   },
   "outputs": [
    {
     "data": {
      "text/html": [
       "<style scoped>\n",
       "  .table-result-container {\n",
       "    max-height: 300px;\n",
       "    overflow: auto;\n",
       "  }\n",
       "  table, th, td {\n",
       "    border: 1px solid black;\n",
       "    border-collapse: collapse;\n",
       "  }\n",
       "  th, td {\n",
       "    padding: 5px;\n",
       "  }\n",
       "  th {\n",
       "    text-align: left;\n",
       "  }\n",
       "</style><div class='table-result-container'><table class='table-result'><thead style='background-color: white'><tr><th>path</th><th>name</th><th>size</th><th>modificationTime</th></tr></thead><tbody><tr><td>dbfs:/mnt/briefesther/data_bronze/</td><td>data_bronze/</td><td>0</td><td>0</td></tr><tr><td>dbfs:/mnt/briefesther/data_gold/</td><td>data_gold/</td><td>0</td><td>0</td></tr><tr><td>dbfs:/mnt/briefesther/data_silver/</td><td>data_silver/</td><td>0</td><td>0</td></tr></tbody></table></div>"
      ]
     },
     "metadata": {
      "application/vnd.databricks.v1+output": {
       "addedWidgets": {},
       "aggData": [],
       "aggError": "",
       "aggOverflow": false,
       "aggSchema": [],
       "aggSeriesLimitReached": false,
       "aggType": "",
       "arguments": {},
       "columnCustomDisplayInfos": {},
       "data": [
        [
         "dbfs:/mnt/briefesther/data_bronze/",
         "data_bronze/",
         0,
         0
        ],
        [
         "dbfs:/mnt/briefesther/data_gold/",
         "data_gold/",
         0,
         0
        ],
        [
         "dbfs:/mnt/briefesther/data_silver/",
         "data_silver/",
         0,
         0
        ]
       ],
       "datasetInfos": [],
       "dbfsResultPath": null,
       "isJsonSchema": true,
       "metadata": {},
       "overflow": false,
       "plotOptions": {
        "customPlotOptions": {},
        "displayType": "table",
        "pivotAggregation": null,
        "pivotColumns": null,
        "xColumns": null,
        "yColumns": null
       },
       "removedWidgets": [],
       "schema": [
        {
         "metadata": "{}",
         "name": "path",
         "type": "\"string\""
        },
        {
         "metadata": "{}",
         "name": "name",
         "type": "\"string\""
        },
        {
         "metadata": "{}",
         "name": "size",
         "type": "\"long\""
        },
        {
         "metadata": "{}",
         "name": "modificationTime",
         "type": "\"long\""
        }
       ],
       "type": "table"
      }
     },
     "output_type": "display_data"
    }
   ],
   "source": [
    "storage_account_name = \"mehdistokage\" \n",
    "container_name = \"briefesther\" \n",
    "storage_account_key = \"STORAGE_ACCOUNT_KEY\"  \n",
    "\n",
    "mount_point = \"/mnt/briefesther\"\n",
    "\n",
    "try: \n",
    "    dbutils.fs.unmount(mount_point)\n",
    "except:\n",
    "    pass\n",
    "\n",
    "if not any(mount.mountPoint == mount_point for mount in dbutils.fs.mounts()):\n",
    "    dbutils.fs.mount(\n",
    "        source = f\"wasbs://{container_name}@{storage_account_name}.blob.core.windows.net\",\n",
    "        mount_point = mount_point,\n",
    "        extra_configs = {f\"fs.azure.account.key.{storage_account_name}.blob.core.windows.net\": storage_account_key}\n",
    "    )\n",
    "\n",
    "display(dbutils.fs.ls(mount_point))"
   ]
  },
  {
   "cell_type": "markdown",
   "metadata": {
    "application/vnd.databricks.v1+cell": {
     "cellMetadata": {},
     "inputWidgets": {},
     "nuid": "48040730-a9a3-43ae-9712-48a01062b118",
     "showTitle": false,
     "tableResultSettingsMap": {},
     "title": ""
    }
   },
   "source": [
    "# Bronze"
   ]
  },
  {
   "cell_type": "code",
   "execution_count": 0,
   "metadata": {
    "application/vnd.databricks.v1+cell": {
     "cellMetadata": {
      "byteLimit": 2048000,
      "rowLimit": 10000
     },
     "inputWidgets": {},
     "nuid": "7d733298-5c46-4cd1-999a-e4208e654a7a",
     "showTitle": false,
     "tableResultSettingsMap": {},
     "title": ""
    }
   },
   "outputs": [
    {
     "name": "stdout",
     "output_type": "stream",
     "text": [
      "+-------+---+----------+------------------+-----------------------------+-----------------------+---+--------+--------+\n",
      "|SO43701|11 |2019-07-01|Christy Zhu       |christy12@adventure-works.com|Mountain-100 Silver, 44|16 |3399.99 |271.9992|\n",
      "+-------+---+----------+------------------+-----------------------------+-----------------------+---+--------+--------+\n",
      "|SO43704|1  |2019-07-01|Julio Ruiz        |julio1@adventure-works.com   |Mountain-100 Black, 48 |1  |3374.99 |269.9992|\n",
      "|SO43705|1  |2019-07-01|Curtis Lu         |curtis9@adventure-works.com  |Mountain-100 Silver, 38|1  |3399.99 |271.9992|\n",
      "|SO43700|1  |2019-07-01|Ruben Prasad      |ruben10@adventure-works.com  |Road-650 Black, 62     |1  |699.0982|55.9279 |\n",
      "|SO43703|1  |2019-07-01|Albert Alvarez    |albert7@adventure-works.com  |Road-150 Red, 62       |1  |3578.27 |286.2616|\n",
      "|SO43697|1  |2019-07-01|Cole Watson       |cole1@adventure-works.com    |Road-150 Red, 62       |1  |3578.27 |286.2616|\n",
      "|SO43699|1  |2019-07-01|Sydney Wright     |sydney61@adventure-works.com |Mountain-100 Silver, 44|1  |3399.99 |271.9992|\n",
      "|SO43702|1  |2019-07-01|Colin Anand       |colin45@adventure-works.com  |Road-150 Red, 44       |1  |3578.27 |286.2616|\n",
      "|SO43698|1  |2019-07-01|Rachael Martinez  |rachael16@adventure-works.com|Mountain-100 Silver, 44|1  |3399.99 |271.9992|\n",
      "|SO43707|1  |2019-07-02|Emma Brown        |emma3@adventure-works.com    |Road-150 Red, 48       |1  |3578.27 |286.2616|\n",
      "|SO43711|1  |2019-07-02|Courtney Edwards  |courtney1@adventure-works.com|Road-150 Red, 56       |1  |3578.27 |286.2616|\n",
      "|SO43706|1  |2019-07-02|Edward Brown      |edward26@adventure-works.com |Road-150 Red, 48       |1  |3578.27 |286.2616|\n",
      "|SO43708|1  |2019-07-02|Brad Deng         |brad2@adventure-works.com    |Road-650 Red, 52       |1  |699.0982|55.9279 |\n",
      "|SO43709|1  |2019-07-02|Martha Xu         |martha12@adventure-works.com |Road-150 Red, 52       |1  |3578.27 |286.2616|\n",
      "|SO43710|1  |2019-07-02|Katrina Raji      |katrina20@adventure-works.com|Road-150 Red, 56       |1  |3578.27 |286.2616|\n",
      "|SO43712|1  |2019-07-02|Abigail Henderson |abigail73@adventure-works.com|Road-150 Red, 44       |1  |3578.27 |286.2616|\n",
      "|SO43720|1  |2019-07-03|Melanie Sanchez   |melanie47@adventure-works.com|Road-150 Red, 44       |1  |3578.27 |286.2616|\n",
      "|SO43721|1  |2019-07-03|Louis Xie         |louis20@adventure-works.com  |Road-150 Red, 62       |1  |3578.27 |286.2616|\n",
      "|SO43714|1  |2019-07-03|Latasha Alonso    |latasha8@adventure-works.com |Road-150 Red, 44       |1  |3578.27 |286.2616|\n",
      "|SO43715|1  |2019-07-03|Warren Jai        |warren42@adventure-works.com |Road-150 Red, 56       |1  |3578.27 |286.2616|\n",
      "|SO43716|1  |2019-07-03|Jonathon Gutierrez|jonathon8@adventure-works.com|Road-150 Red, 44       |1  |3578.27 |286.2616|\n",
      "+-------+---+----------+------------------+-----------------------------+-----------------------+---+--------+--------+\n",
      "only showing top 20 rows\n",
      "\n"
     ]
    }
   ],
   "source": [
    "df_bronze_2019 = spark.read.format(\"csv\") \\\n",
    "    .option(\"header\", \"true\") \\\n",
    "    .option(\"inferSchema\", \"true\") \\\n",
    "    .load(\"/mnt/briefesther/data_bronze/2019.csv\")\n",
    "\n",
    "df_bronze_2020 = spark.read.format(\"csv\") \\\n",
    "    .option(\"header\", \"true\") \\\n",
    "    .option(\"inferSchema\", \"true\") \\\n",
    "    .load(\"/mnt/briefesther/data_bronze/2020.csv\")\n",
    "\n",
    "df_bronze_2021 = spark.read.format(\"csv\") \\\n",
    "    .option(\"header\", \"true\") \\\n",
    "    .option(\"inferSchema\", \"true\") \\\n",
    "    .load(\"/mnt/briefesther/data_bronze/2021.csv\")\n",
    "\n",
    "df_bronze = df_bronze_2019.union(df_bronze_2020).union(df_bronze_2021)\n",
    "\n",
    "df_bronze.show(truncate=False)\n"
   ]
  },
  {
   "cell_type": "markdown",
   "metadata": {
    "application/vnd.databricks.v1+cell": {
     "cellMetadata": {},
     "inputWidgets": {},
     "nuid": "67d56e71-8842-48a3-b6b4-d042f6791124",
     "showTitle": false,
     "tableResultSettingsMap": {},
     "title": ""
    }
   },
   "source": [
    "# Silver"
   ]
  },
  {
   "cell_type": "code",
   "execution_count": 0,
   "metadata": {
    "application/vnd.databricks.v1+cell": {
     "cellMetadata": {
      "byteLimit": 2048000,
      "rowLimit": 10000
     },
     "inputWidgets": {},
     "nuid": "3fe89557-0fe2-413c-a1db-c7d09c8fa4fe",
     "showTitle": false,
     "tableResultSettingsMap": {},
     "title": ""
    }
   },
   "outputs": [
    {
     "name": "stdout",
     "output_type": "stream",
     "text": [
      "+-------+---+----------+----------------+------------------------------+-----------------------+---+--------+--------+\n",
      "|SO43701|11 |2019_07_01|Christy_Zhu     |christy12@adventure_works_com |Mountain_100_Silver__44|16 |3399_99 |271_9992|\n",
      "+-------+---+----------+----------------+------------------------------+-----------------------+---+--------+--------+\n",
      "|SO43790|1  |2019-07-12|Abigail Perry   |abigail75@adventure-works.com |Mountain-100 Silver, 38|1  |3399.99 |271.9992|\n",
      "|SO44017|1  |2019-07-27|Jack Young      |jack54@adventure-works.com    |Road-150 Red, 62       |1  |3578.27 |286.2616|\n",
      "|SO44378|1  |2019-09-11|Marshall Rai    |marshall38@adventure-works.com|Mountain-100 Black, 42 |1  |3374.99 |269.9992|\n",
      "|SO44726|1  |2019-10-28|Dylan Bryant    |dylan17@adventure-works.com   |Road-650 Black, 58     |1  |699.0982|55.9279 |\n",
      "|SO44855|1  |2019-11-07|Isabella Brown  |isabella61@adventure-works.com|Road-650 Red, 58       |1  |699.0982|55.9279 |\n",
      "|SO44999|1  |2019-11-25|Devin Gonzalez  |devin31@adventure-works.com   |Road-150 Red, 44       |1  |3578.27 |286.2616|\n",
      "|SO45022|1  |2019-11-28|Jennifer Roberts|jennifer15@adventure-works.com|Mountain-100 Black, 44 |1  |3374.99 |269.9992|\n",
      "|SO43703|1  |2019-07-01|Albert Alvarez  |albert7@adventure-works.com   |Road-150 Red, 62       |1  |3578.27 |286.2616|\n",
      "|SO44177|1  |2019-08-11|Jerome Romero   |jerome7@adventure-works.com   |Mountain-100 Black, 44 |1  |3374.99 |269.9992|\n",
      "|SO44402|1  |2019-09-15|Teresa Ruiz     |teresa3@adventure-works.com   |Road-150 Red, 56       |1  |3578.27 |286.2616|\n",
      "|SO44411|1  |2019-09-17|Rolando Smith   |rolando0@adventure-works.com  |Road-150 Red, 48       |1  |3578.27 |286.2616|\n",
      "|SO44593|1  |2019-10-05|Martin Fernandez|martin20@adventure-works.com  |Road-150 Red, 52       |1  |3578.27 |286.2616|\n",
      "|SO45103|1  |2019-12-06|Richard Ward    |richard84@adventure-works.com |Road-150 Red, 62       |1  |3578.27 |286.2616|\n",
      "|SO43931|1  |2019-07-19|Bridget Jai     |bridget13@adventure-works.com |Road-150 Red, 52       |1  |3578.27 |286.2616|\n",
      "|SO44207|1  |2019-08-18|Bruce Ward      |bruce43@adventure-works.com   |Road-150 Red, 52       |1  |3578.27 |286.2616|\n",
      "|SO44812|1  |2019-11-01|Harold Perez    |harold18@adventure-works.com  |Road-150 Red, 56       |1  |3578.27 |286.2616|\n",
      "|SO45014|1  |2019-11-27|Levi Prasad     |levi8@adventure-works.com     |Road-650 Red, 60       |1  |699.0982|55.9279 |\n",
      "|SO44581|1  |2019-10-03|Kari Alvarez    |kari25@adventure-works.com    |Mountain-100 Black, 38 |1  |3374.99 |269.9992|\n",
      "|SO44817|1  |2019-11-02|Kayla Jenkins   |kayla31@adventure-works.com   |Road-150 Red, 48       |1  |3578.27 |286.2616|\n",
      "|SO44889|1  |2019-11-12|Anne Ramos      |anne19@adventure-works.com    |Mountain-100 Black, 38 |1  |3374.99 |269.9992|\n",
      "+-------+---+----------+----------------+------------------------------+-----------------------+---+--------+--------+\n",
      "only showing top 20 rows\n",
      "\n"
     ]
    }
   ],
   "source": [
    "from pyspark.sql.functions import col\n",
    "\n",
    "silver_path = \"/mnt/briefesther/data_silver/\"\n",
    "\n",
    "df_bronze = df_bronze.toDF(*[col_name.replace(\".\", \"_\").replace(\",\", \"_\").replace(\" \", \"_\").replace(\"-\", \"_\") for col_name in df_bronze.columns])\n",
    "\n",
    "df_silver = df_bronze.dropDuplicates().na.drop()\n",
    "\n",
    "df_silver.write.format(\"parquet\").mode(\"overwrite\").save(silver_path)\n",
    "\n",
    "df_silver = spark.read.format(\"parquet\").load(silver_path)\n",
    "df_silver.show(truncate=False)\n"
   ]
  },
  {
   "cell_type": "markdown",
   "metadata": {
    "application/vnd.databricks.v1+cell": {
     "cellMetadata": {},
     "inputWidgets": {},
     "nuid": "6ff6dcac-b9b7-45d7-ae26-c0b20b3b5658",
     "showTitle": false,
     "tableResultSettingsMap": {},
     "title": ""
    }
   },
   "source": [
    "# Gold"
   ]
  },
  {
   "cell_type": "code",
   "execution_count": 0,
   "metadata": {
    "application/vnd.databricks.v1+cell": {
     "cellMetadata": {
      "byteLimit": 2048000,
      "rowLimit": 10000
     },
     "inputWidgets": {},
     "nuid": "9eac4934-2825-4c17-8a97-9c153322f95e",
     "showTitle": false,
     "tableResultSettingsMap": {},
     "title": ""
    }
   },
   "outputs": [
    {
     "name": "stdout",
     "output_type": "stream",
     "text": [
      "+-------+------------------+------------------+\n",
      "|SO43701|avg_sales         |total_transactions|\n",
      "+-------+------------------+------------------+\n",
      "|SO45078|3578.27           |1                 |\n",
      "|SO43830|3578.27           |1                 |\n",
      "|SO47586|782.99            |1                 |\n",
      "|SO48696|2443.35           |1                 |\n",
      "|SO46268|3578.27           |1                 |\n",
      "|SO48837|2181.5625         |1                 |\n",
      "|SO48551|782.99            |1                 |\n",
      "|SO46164|3578.27           |1                 |\n",
      "|SO47299|2443.35           |1                 |\n",
      "|SO56348|12.96             |3                 |\n",
      "|SO58552|62.66             |3                 |\n",
      "|SO62915|31.3675           |4                 |\n",
      "|SO60172|187.92333333333332|3                 |\n",
      "|SO59804|1158.485          |2                 |\n",
      "|SO50568|782.99            |1                 |\n",
      "|SO54042|20.774285714285714|7                 |\n",
      "|SO56522|596.6566666666666 |3                 |\n",
      "|SO58211|19.823333333333334|3                 |\n",
      "|SO49204|2071.4196         |1                 |\n",
      "|SO56596|184.65666666666667|3                 |\n",
      "+-------+------------------+------------------+\n",
      "only showing top 20 rows\n",
      "\n"
     ]
    }
   ],
   "source": [
    "from pyspark.sql.functions import avg, count\n",
    "\n",
    "gold_path = \"/mnt/briefesther/data_gold/\"\n",
    "\n",
    "# ventes moyennes et total de transactions\n",
    "df_gold = df_silver.groupBy(\"SO43701\").agg(\n",
    "    avg(\"3399_99\").alias(\"avg_sales\"),\n",
    "    count(\"*\").alias(\"total_transactions\")\n",
    ")\n",
    "\n",
    "df_gold.write.format(\"parquet\").mode(\"overwrite\").save(gold_path)\n",
    "\n",
    "df_gold = spark.read.format(\"parquet\").load(gold_path)\n",
    "df_gold.show(truncate=False)\n"
   ]
  },
  {
   "cell_type": "markdown",
   "metadata": {
    "application/vnd.databricks.v1+cell": {
     "cellMetadata": {},
     "inputWidgets": {},
     "nuid": "86bd62f2-3523-4c41-805d-7efbaa845d44",
     "showTitle": false,
     "tableResultSettingsMap": {},
     "title": ""
    }
   },
   "source": [
    "# Partie 4"
   ]
  },
  {
   "cell_type": "code",
   "execution_count": 0,
   "metadata": {
    "application/vnd.databricks.v1+cell": {
     "cellMetadata": {
      "byteLimit": 2048000,
      "implicitDf": true,
      "rowLimit": 10000
     },
     "inputWidgets": {},
     "nuid": "921199e6-db3d-41df-ab12-fb9200111f4f",
     "showTitle": false,
     "tableResultSettingsMap": {},
     "title": ""
    }
   },
   "outputs": [
    {
     "name": "stdout",
     "output_type": "stream",
     "text": [
      "+-------+------------------+------------------+\n",
      "|SO43701|avg_sales         |total_transactions|\n",
      "+-------+------------------+------------------+\n",
      "|SO45078|3578.27           |1                 |\n",
      "|SO43830|3578.27           |1                 |\n",
      "|SO47586|782.99            |1                 |\n",
      "|SO48696|2443.35           |1                 |\n",
      "|SO46268|3578.27           |1                 |\n",
      "|SO48837|2181.5625         |1                 |\n",
      "|SO48551|782.99            |1                 |\n",
      "|SO46164|3578.27           |1                 |\n",
      "|SO47299|2443.35           |1                 |\n",
      "|SO56348|12.96             |3                 |\n",
      "|SO58552|62.66             |3                 |\n",
      "|SO62915|31.3675           |4                 |\n",
      "|SO60172|187.92333333333332|3                 |\n",
      "|SO59804|1158.485          |2                 |\n",
      "|SO50568|782.99            |1                 |\n",
      "|SO54042|20.774285714285714|7                 |\n",
      "|SO56522|596.6566666666666 |3                 |\n",
      "|SO58211|19.823333333333334|3                 |\n",
      "|SO49204|2071.4196         |1                 |\n",
      "|SO56596|184.65666666666667|3                 |\n",
      "+-------+------------------+------------------+\n",
      "only showing top 20 rows\n",
      "\n"
     ]
    },
    {
     "data": {
      "image/png": "[encoded data removed]",
      "text/plain": [
       "<Figure size 1000x600 with 1 Axes>"
      ]
     },
     "metadata": {},
     "output_type": "display_data"
    }
   ],
   "source": [
    "import matplotlib.pyplot as plt\n",
    "import seaborn as sns\n",
    "\n",
    "gold_path = \"/mnt/briefesther/data_gold/\"\n",
    "df_gold = spark.read.format(\"parquet\").load(gold_path)\n",
    "\n",
    "df_gold.show(truncate=False)\n",
    "\n",
    "pd_gold = df_gold.toPandas()\n",
    "\n",
    "plt.figure(figsize=(10, 6))\n",
    "sns.barplot(data=pd_gold, x=\"SO43701\", y=\"avg_sales\")\n",
    "plt.title(\"Ventes moyennes par client\")\n",
    "plt.xlabel(\"Client\")\n",
    "plt.ylabel(\"Ventes moyennes\")\n",
    "plt.xticks(rotation=45)\n",
    "plt.tight_layout()\n",
    "plt.show()"
   ]
  },
  {
   "cell_type": "markdown",
   "metadata": {
    "application/vnd.databricks.v1+cell": {
     "cellMetadata": {},
     "inputWidgets": {},
     "nuid": "14bfbccb-3ca5-4245-a187-80fac973d64d",
     "showTitle": false,
     "tableResultSettingsMap": {},
     "title": ""
    }
   },
   "source": [
    "# Partie 5"
   ]
  },
  {
   "cell_type": "code",
   "execution_count": 0,
   "metadata": {
    "application/vnd.databricks.v1+cell": {
     "cellMetadata": {
      "byteLimit": 2048000,
      "rowLimit": 10000
     },
     "inputWidgets": {},
     "nuid": "94d466d1-c01a-4508-8a2c-231c914f493e",
     "showTitle": false,
     "tableResultSettingsMap": {},
     "title": ""
    }
   },
   "outputs": [
    {
     "name": "stdout",
     "output_type": "stream",
     "text": [
      "Les fichiers Silver ont été sauvegardés avec succès en format Parquet.\n"
     ]
    }
   ],
   "source": [
    "bronze_path = \"/mnt/briefesther/data_bronze/\"\n",
    "silver_path = \"/mnt/briefesther/data_silver/\"\n",
    "gold_path = \"/mnt/briefesther/data_gold/\"\n",
    "\n",
    "df_bronze.coalesce(1).write.mode(\"overwrite\").parquet(bronze_path)\n",
    "df_silver.coalesce(1).write.mode(\"overwrite\").parquet(silver_path)\n",
    "df_gold.coalesce(1).write.mode(\"overwrite\").parquet(gold_path)"
   ]
  },
  {
   "cell_type": "code",
   "execution_count": 0,
   "metadata": {
    "application/vnd.databricks.v1+cell": {
     "cellMetadata": {},
     "inputWidgets": {},
     "nuid": "1c282fc9-3603-466f-a5b2-e1c304ed3d88",
     "showTitle": false,
     "tableResultSettingsMap": {},
     "title": ""
    }
   },
   "outputs": [],
   "source": []
  }
 ],
 "metadata": {
  "application/vnd.databricks.v1+notebook": {
   "dashboards": [],
   "environmentMetadata": {
    "base_environment": "",
    "client": "1"
   },
   "language": "python",
   "notebookMetadata": {
    "mostRecentlyExecutedCommandWithImplicitDF": {
     "commandId": 3416042294059819,
     "dataframes": [
      "_sqldf"
     ]
    },
    "pythonIndentUnit": 4
   },
   "notebookName": "Lab5",
   "widgets": {}
  },
  "language_info": {
   "name": "python"
  }
 },
 "nbformat": 4,
 "nbformat_minor": 0
}
