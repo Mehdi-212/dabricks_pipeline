{
 "cells": [
  {
   "cell_type": "code",
   "execution_count": 0,
   "metadata": {
    "application/vnd.databricks.v1+cell": {
     "cellMetadata": {
      "byteLimit": 2048000,
      "rowLimit": 10000
     },
     "inputWidgets": {},
     "nuid": "70e59739-20ed-46a5-8eaa-664b87205458",
     "showTitle": false,
     "tableResultSettingsMap": {},
     "title": ""
    }
   },
   "outputs": [
    {
     "output_type": "display_data",
     "data": {
      "text/html": [
       "<style scoped>\n",
       "  .table-result-container {\n",
       "    max-height: 300px;\n",
       "    overflow: auto;\n",
       "  }\n",
       "  table, th, td {\n",
       "    border: 1px solid black;\n",
       "    border-collapse: collapse;\n",
       "  }\n",
       "  th, td {\n",
       "    padding: 5px;\n",
       "  }\n",
       "  th {\n",
       "    text-align: left;\n",
       "  }\n",
       "</style><div class='table-result-container'><table class='table-result'><thead style='background-color: white'><tr><th>path</th><th>name</th><th>size</th><th>modificationTime</th></tr></thead><tbody><tr><td>dbfs:/databricks-datasets/COVID/</td><td>COVID/</td><td>0</td><td>1732267479968</td></tr><tr><td>dbfs:/databricks-datasets/README.md</td><td>README.md</td><td>976</td><td>1561418533000</td></tr><tr><td>dbfs:/databricks-datasets/Rdatasets/</td><td>Rdatasets/</td><td>0</td><td>1732267479968</td></tr><tr><td>dbfs:/databricks-datasets/SPARK_README.md</td><td>SPARK_README.md</td><td>3359</td><td>1561418605000</td></tr><tr><td>dbfs:/databricks-datasets/adult/</td><td>adult/</td><td>0</td><td>1732267479968</td></tr><tr><td>dbfs:/databricks-datasets/airlines/</td><td>airlines/</td><td>0</td><td>1732267479968</td></tr><tr><td>dbfs:/databricks-datasets/amazon/</td><td>amazon/</td><td>0</td><td>1732267479968</td></tr><tr><td>dbfs:/databricks-datasets/asa/</td><td>asa/</td><td>0</td><td>1732267479968</td></tr><tr><td>dbfs:/databricks-datasets/atlas_higgs/</td><td>atlas_higgs/</td><td>0</td><td>1732267479968</td></tr><tr><td>dbfs:/databricks-datasets/bikeSharing/</td><td>bikeSharing/</td><td>0</td><td>1732267479968</td></tr><tr><td>dbfs:/databricks-datasets/cctvVideos/</td><td>cctvVideos/</td><td>0</td><td>1732267479968</td></tr><tr><td>dbfs:/databricks-datasets/credit-card-fraud/</td><td>credit-card-fraud/</td><td>0</td><td>1732267479968</td></tr><tr><td>dbfs:/databricks-datasets/cs100/</td><td>cs100/</td><td>0</td><td>1732267479968</td></tr><tr><td>dbfs:/databricks-datasets/cs110x/</td><td>cs110x/</td><td>0</td><td>1732267479968</td></tr><tr><td>dbfs:/databricks-datasets/cs190/</td><td>cs190/</td><td>0</td><td>1732267479968</td></tr><tr><td>dbfs:/databricks-datasets/data.gov/</td><td>data.gov/</td><td>0</td><td>1732267479968</td></tr><tr><td>dbfs:/databricks-datasets/definitive-guide/</td><td>definitive-guide/</td><td>0</td><td>1732267479968</td></tr><tr><td>dbfs:/databricks-datasets/delta-sharing/</td><td>delta-sharing/</td><td>0</td><td>1732267479968</td></tr><tr><td>dbfs:/databricks-datasets/flights/</td><td>flights/</td><td>0</td><td>1732267479968</td></tr><tr><td>dbfs:/databricks-datasets/flower_photos/</td><td>flower_photos/</td><td>0</td><td>1732267479968</td></tr><tr><td>dbfs:/databricks-datasets/flowers/</td><td>flowers/</td><td>0</td><td>1732267479968</td></tr><tr><td>dbfs:/databricks-datasets/genomics/</td><td>genomics/</td><td>0</td><td>1732267479968</td></tr><tr><td>dbfs:/databricks-datasets/hail/</td><td>hail/</td><td>0</td><td>1732267479968</td></tr><tr><td>dbfs:/databricks-datasets/identifying-campaign-effectiveness/</td><td>identifying-campaign-effectiveness/</td><td>0</td><td>1732267479968</td></tr><tr><td>dbfs:/databricks-datasets/iot/</td><td>iot/</td><td>0</td><td>1732267479969</td></tr><tr><td>dbfs:/databricks-datasets/iot-stream/</td><td>iot-stream/</td><td>0</td><td>1732267479969</td></tr><tr><td>dbfs:/databricks-datasets/learning-spark/</td><td>learning-spark/</td><td>0</td><td>1732267479969</td></tr><tr><td>dbfs:/databricks-datasets/learning-spark-v2/</td><td>learning-spark-v2/</td><td>0</td><td>1732267479969</td></tr><tr><td>dbfs:/databricks-datasets/lending-club-loan-stats/</td><td>lending-club-loan-stats/</td><td>0</td><td>1732267479969</td></tr><tr><td>dbfs:/databricks-datasets/med-images/</td><td>med-images/</td><td>0</td><td>1732267479969</td></tr><tr><td>dbfs:/databricks-datasets/media/</td><td>media/</td><td>0</td><td>1732267479969</td></tr><tr><td>dbfs:/databricks-datasets/mnist-digits/</td><td>mnist-digits/</td><td>0</td><td>1732267479969</td></tr><tr><td>dbfs:/databricks-datasets/news20.binary/</td><td>news20.binary/</td><td>0</td><td>1732267479969</td></tr><tr><td>dbfs:/databricks-datasets/nyctaxi/</td><td>nyctaxi/</td><td>0</td><td>1732267479969</td></tr><tr><td>dbfs:/databricks-datasets/nyctaxi-with-zipcodes/</td><td>nyctaxi-with-zipcodes/</td><td>0</td><td>1732267479969</td></tr><tr><td>dbfs:/databricks-datasets/online_retail/</td><td>online_retail/</td><td>0</td><td>1732267479969</td></tr><tr><td>dbfs:/databricks-datasets/overlap-join/</td><td>overlap-join/</td><td>0</td><td>1732267479969</td></tr><tr><td>dbfs:/databricks-datasets/power-plant/</td><td>power-plant/</td><td>0</td><td>1732267479969</td></tr><tr><td>dbfs:/databricks-datasets/retail-org/</td><td>retail-org/</td><td>0</td><td>1732267479969</td></tr><tr><td>dbfs:/databricks-datasets/rwe/</td><td>rwe/</td><td>0</td><td>1732267479969</td></tr><tr><td>dbfs:/databricks-datasets/sai-summit-2019-sf/</td><td>sai-summit-2019-sf/</td><td>0</td><td>1732267479969</td></tr><tr><td>dbfs:/databricks-datasets/sample_logs/</td><td>sample_logs/</td><td>0</td><td>1732267479969</td></tr><tr><td>dbfs:/databricks-datasets/samples/</td><td>samples/</td><td>0</td><td>1732267479969</td></tr><tr><td>dbfs:/databricks-datasets/sfo_customer_survey/</td><td>sfo_customer_survey/</td><td>0</td><td>1732267479969</td></tr><tr><td>dbfs:/databricks-datasets/sms_spam_collection/</td><td>sms_spam_collection/</td><td>0</td><td>1732267479969</td></tr><tr><td>dbfs:/databricks-datasets/songs/</td><td>songs/</td><td>0</td><td>1732267479969</td></tr><tr><td>dbfs:/databricks-datasets/structured-streaming/</td><td>structured-streaming/</td><td>0</td><td>1732267479969</td></tr><tr><td>dbfs:/databricks-datasets/timeseries/</td><td>timeseries/</td><td>0</td><td>1732267479969</td></tr><tr><td>dbfs:/databricks-datasets/tpch/</td><td>tpch/</td><td>0</td><td>1732267479969</td></tr><tr><td>dbfs:/databricks-datasets/travel_recommendations_realtime/</td><td>travel_recommendations_realtime/</td><td>0</td><td>1732267479969</td></tr><tr><td>dbfs:/databricks-datasets/warmup/</td><td>warmup/</td><td>0</td><td>1732267479969</td></tr><tr><td>dbfs:/databricks-datasets/weather/</td><td>weather/</td><td>0</td><td>1732267479969</td></tr><tr><td>dbfs:/databricks-datasets/wiki/</td><td>wiki/</td><td>0</td><td>1732267479969</td></tr><tr><td>dbfs:/databricks-datasets/wikipedia-datasets/</td><td>wikipedia-datasets/</td><td>0</td><td>1732267479969</td></tr><tr><td>dbfs:/databricks-datasets/wine-quality/</td><td>wine-quality/</td><td>0</td><td>1732267479969</td></tr></tbody></table></div>"
      ]
     },
     "metadata": {
      "application/vnd.databricks.v1+output": {
       "addedWidgets": {},
       "aggData": [],
       "aggError": "",
       "aggOverflow": false,
       "aggSchema": [],
       "aggSeriesLimitReached": false,
       "aggType": "",
       "arguments": {},
       "columnCustomDisplayInfos": {},
       "data": [
        [
         "dbfs:/databricks-datasets/COVID/",
         "COVID/",
         0,
         1732267479968
        ],
        [
         "dbfs:/databricks-datasets/README.md",
         "README.md",
         976,
         1561418533000
        ],
        [
         "dbfs:/databricks-datasets/Rdatasets/",
         "Rdatasets/",
         0,
         1732267479968
        ],
        [
         "dbfs:/databricks-datasets/SPARK_README.md",
         "SPARK_README.md",
         3359,
         1561418605000
        ],
        [
         "dbfs:/databricks-datasets/adult/",
         "adult/",
         0,
         1732267479968
        ],
        [
         "dbfs:/databricks-datasets/airlines/",
         "airlines/",
         0,
         1732267479968
        ],
        [
         "dbfs:/databricks-datasets/amazon/",
         "amazon/",
         0,
         1732267479968
        ],
        [
         "dbfs:/databricks-datasets/asa/",
         "asa/",
         0,
         1732267479968
        ],
        [
         "dbfs:/databricks-datasets/atlas_higgs/",
         "atlas_higgs/",
         0,
         1732267479968
        ],
        [
         "dbfs:/databricks-datasets/bikeSharing/",
         "bikeSharing/",
         0,
         1732267479968
        ],
        [
         "dbfs:/databricks-datasets/cctvVideos/",
         "cctvVideos/",
         0,
         1732267479968
        ],
        [
         "dbfs:/databricks-datasets/credit-card-fraud/",
         "credit-card-fraud/",
         0,
         1732267479968
        ],
        [
         "dbfs:/databricks-datasets/cs100/",
         "cs100/",
         0,
         1732267479968
        ],
        [
         "dbfs:/databricks-datasets/cs110x/",
         "cs110x/",
         0,
         1732267479968
        ],
        [
         "dbfs:/databricks-datasets/cs190/",
         "cs190/",
         0,
         1732267479968
        ],
        [
         "dbfs:/databricks-datasets/data.gov/",
         "data.gov/",
         0,
         1732267479968
        ],
        [
         "dbfs:/databricks-datasets/definitive-guide/",
         "definitive-guide/",
         0,
         1732267479968
        ],
        [
         "dbfs:/databricks-datasets/delta-sharing/",
         "delta-sharing/",
         0,
         1732267479968
        ],
        [
         "dbfs:/databricks-datasets/flights/",
         "flights/",
         0,
         1732267479968
        ],
        [
         "dbfs:/databricks-datasets/flower_photos/",
         "flower_photos/",
         0,
         1732267479968
        ],
        [
         "dbfs:/databricks-datasets/flowers/",
         "flowers/",
         0,
         1732267479968
        ],
        [
         "dbfs:/databricks-datasets/genomics/",
         "genomics/",
         0,
         1732267479968
        ],
        [
         "dbfs:/databricks-datasets/hail/",
         "hail/",
         0,
         1732267479968
        ],
        [
         "dbfs:/databricks-datasets/identifying-campaign-effectiveness/",
         "identifying-campaign-effectiveness/",
         0,
         1732267479968
        ],
        [
         "dbfs:/databricks-datasets/iot/",
         "iot/",
         0,
         1732267479969
        ],
        [
         "dbfs:/databricks-datasets/iot-stream/",
         "iot-stream/",
         0,
         1732267479969
        ],
        [
         "dbfs:/databricks-datasets/learning-spark/",
         "learning-spark/",
         0,
         1732267479969
        ],
        [
         "dbfs:/databricks-datasets/learning-spark-v2/",
         "learning-spark-v2/",
         0,
         1732267479969
        ],
        [
         "dbfs:/databricks-datasets/lending-club-loan-stats/",
         "lending-club-loan-stats/",
         0,
         1732267479969
        ],
        [
         "dbfs:/databricks-datasets/med-images/",
         "med-images/",
         0,
         1732267479969
        ],
        [
         "dbfs:/databricks-datasets/media/",
         "media/",
         0,
         1732267479969
        ],
        [
         "dbfs:/databricks-datasets/mnist-digits/",
         "mnist-digits/",
         0,
         1732267479969
        ],
        [
         "dbfs:/databricks-datasets/news20.binary/",
         "news20.binary/",
         0,
         1732267479969
        ],
        [
         "dbfs:/databricks-datasets/nyctaxi/",
         "nyctaxi/",
         0,
         1732267479969
        ],
        [
         "dbfs:/databricks-datasets/nyctaxi-with-zipcodes/",
         "nyctaxi-with-zipcodes/",
         0,
         1732267479969
        ],
        [
         "dbfs:/databricks-datasets/online_retail/",
         "online_retail/",
         0,
         1732267479969
        ],
        [
         "dbfs:/databricks-datasets/overlap-join/",
         "overlap-join/",
         0,
         1732267479969
        ],
        [
         "dbfs:/databricks-datasets/power-plant/",
         "power-plant/",
         0,
         1732267479969
        ],
        [
         "dbfs:/databricks-datasets/retail-org/",
         "retail-org/",
         0,
         1732267479969
        ],
        [
         "dbfs:/databricks-datasets/rwe/",
         "rwe/",
         0,
         1732267479969
        ],
        [
         "dbfs:/databricks-datasets/sai-summit-2019-sf/",
         "sai-summit-2019-sf/",
         0,
         1732267479969
        ],
        [
         "dbfs:/databricks-datasets/sample_logs/",
         "sample_logs/",
         0,
         1732267479969
        ],
        [
         "dbfs:/databricks-datasets/samples/",
         "samples/",
         0,
         1732267479969
        ],
        [
         "dbfs:/databricks-datasets/sfo_customer_survey/",
         "sfo_customer_survey/",
         0,
         1732267479969
        ],
        [
         "dbfs:/databricks-datasets/sms_spam_collection/",
         "sms_spam_collection/",
         0,
         1732267479969
        ],
        [
         "dbfs:/databricks-datasets/songs/",
         "songs/",
         0,
         1732267479969
        ],
        [
         "dbfs:/databricks-datasets/structured-streaming/",
         "structured-streaming/",
         0,
         1732267479969
        ],
        [
         "dbfs:/databricks-datasets/timeseries/",
         "timeseries/",
         0,
         1732267479969
        ],
        [
         "dbfs:/databricks-datasets/tpch/",
         "tpch/",
         0,
         1732267479969
        ],
        [
         "dbfs:/databricks-datasets/travel_recommendations_realtime/",
         "travel_recommendations_realtime/",
         0,
         1732267479969
        ],
        [
         "dbfs:/databricks-datasets/warmup/",
         "warmup/",
         0,
         1732267479969
        ],
        [
         "dbfs:/databricks-datasets/weather/",
         "weather/",
         0,
         1732267479969
        ],
        [
         "dbfs:/databricks-datasets/wiki/",
         "wiki/",
         0,
         1732267479969
        ],
        [
         "dbfs:/databricks-datasets/wikipedia-datasets/",
         "wikipedia-datasets/",
         0,
         1732267479969
        ],
        [
         "dbfs:/databricks-datasets/wine-quality/",
         "wine-quality/",
         0,
         1732267479969
        ]
       ],
       "datasetInfos": [],
       "dbfsResultPath": null,
       "isJsonSchema": true,
       "metadata": {},
       "overflow": false,
       "plotOptions": {
        "customPlotOptions": {},
        "displayType": "table",
        "pivotAggregation": null,
        "pivotColumns": null,
        "xColumns": null,
        "yColumns": null
       },
       "removedWidgets": [],
       "schema": [
        {
         "metadata": "{}",
         "name": "path",
         "type": "\"string\""
        },
        {
         "metadata": "{}",
         "name": "name",
         "type": "\"string\""
        },
        {
         "metadata": "{}",
         "name": "size",
         "type": "\"long\""
        },
        {
         "metadata": "{}",
         "name": "modificationTime",
         "type": "\"long\""
        }
       ],
       "type": "table"
      }
     },
     "output_type": "display_data"
    }
   ],
   "source": [
    "display(dbutils.fs.ls(\"/databricks-datasets/\"))\n"
   ]
  },
  {
   "cell_type": "code",
   "execution_count": 0,
   "metadata": {
    "application/vnd.databricks.v1+cell": {
     "cellMetadata": {
      "byteLimit": 2048000,
      "rowLimit": 10000
     },
     "inputWidgets": {},
     "nuid": "17e18242-6e27-4949-baa1-8d582f986f6e",
     "showTitle": false,
     "tableResultSettingsMap": {},
     "title": ""
    }
   },
   "outputs": [
    {
     "output_type": "display_data",
     "data": {
      "text/html": [
       "<style scoped>\n",
       "  .table-result-container {\n",
       "    max-height: 300px;\n",
       "    overflow: auto;\n",
       "  }\n",
       "  table, th, td {\n",
       "    border: 1px solid black;\n",
       "    border-collapse: collapse;\n",
       "  }\n",
       "  th, td {\n",
       "    padding: 5px;\n",
       "  }\n",
       "  th {\n",
       "    text-align: left;\n",
       "  }\n",
       "</style><div class='table-result-container'><table class='table-result'><thead style='background-color: white'><tr><th>path</th><th>name</th><th>size</th><th>modificationTime</th></tr></thead><tbody><tr><td>dbfs:/databricks-datasets/nyctaxi/sample/README.md</td><td>README.md</td><td>67</td><td>1617329156000</td></tr><tr><td>dbfs:/databricks-datasets/nyctaxi/sample/json/</td><td>json/</td><td>0</td><td>1732267480816</td></tr></tbody></table></div>"
      ]
     },
     "metadata": {
      "application/vnd.databricks.v1+output": {
       "addedWidgets": {},
       "aggData": [],
       "aggError": "",
       "aggOverflow": false,
       "aggSchema": [],
       "aggSeriesLimitReached": false,
       "aggType": "",
       "arguments": {},
       "columnCustomDisplayInfos": {},
       "data": [
        [
         "dbfs:/databricks-datasets/nyctaxi/sample/README.md",
         "README.md",
         67,
         1617329156000
        ],
        [
         "dbfs:/databricks-datasets/nyctaxi/sample/json/",
         "json/",
         0,
         1732267480816
        ]
       ],
       "datasetInfos": [],
       "dbfsResultPath": null,
       "isJsonSchema": true,
       "metadata": {},
       "overflow": false,
       "plotOptions": {
        "customPlotOptions": {},
        "displayType": "table",
        "pivotAggregation": null,
        "pivotColumns": null,
        "xColumns": null,
        "yColumns": null
       },
       "removedWidgets": [],
       "schema": [
        {
         "metadata": "{}",
         "name": "path",
         "type": "\"string\""
        },
        {
         "metadata": "{}",
         "name": "name",
         "type": "\"string\""
        },
        {
         "metadata": "{}",
         "name": "size",
         "type": "\"long\""
        },
        {
         "metadata": "{}",
         "name": "modificationTime",
         "type": "\"long\""
        }
       ],
       "type": "table"
      }
     },
     "output_type": "display_data"
    }
   ],
   "source": [
    "display(dbutils.fs.ls(\"/databricks-datasets/nyctaxi/sample/\"))\n"
   ]
  },
  {
   "cell_type": "markdown",
   "metadata": {
    "application/vnd.databricks.v1+cell": {
     "cellMetadata": {},
     "inputWidgets": {},
     "nuid": "48040730-a9a3-43ae-9712-48a01062b118",
     "showTitle": false,
     "tableResultSettingsMap": {},
     "title": ""
    }
   },
   "source": [
    "# Bronze"
   ]
  },
  {
   "cell_type": "code",
   "execution_count": 0,
   "metadata": {
    "application/vnd.databricks.v1+cell": {
     "cellMetadata": {
      "byteLimit": 2048000,
      "rowLimit": 10000
     },
     "inputWidgets": {},
     "nuid": "fd61fd1f-8149-4016-bc81-1b46309ece6d",
     "showTitle": false,
     "tableResultSettingsMap": {},
     "title": ""
    }
   },
   "outputs": [
    {
     "output_type": "stream",
     "name": "stdout",
     "output_type": "stream",
     "text": [
      "+------------+------------+----------+--------+--------------------+-----+-----------+---------------------+-------+---------------+------------+------------------+----------+------------+------------+---------------------+--------------------+-------------+-------------------+\n|DOLocationID|PULocationID|RatecodeID|VendorID|congestion_surcharge|extra|fare_amount|improvement_surcharge|mta_tax|passenger_count|payment_type|store_and_fwd_flag|tip_amount|tolls_amount|total_amount|tpep_dropoff_datetime|tpep_pickup_datetime|trip_distance|pep_pickup_date_txt|\n+------------+------------+----------+--------+--------------------+-----+-----------+---------------------+-------+---------------+------------+------------------+----------+------------+------------+---------------------+--------------------+-------------+-------------------+\n|         236|         132|         2|       2|                 2.5|  0.0|       52.0|                  0.3|    0.5|              1|           1|                 N|       9.0|        6.12|       70.42|  2019-12-19 00:33:53| 2019-12-19 00:02:14|        19.32|         2019-12-19|\n|          75|          74|         1|       2|                 0.0|  0.5|        4.5|                  0.3|    0.5|              1|           2|                 N|       0.0|         0.0|         5.8|  2019-12-19 00:03:20| 2019-12-19 00:00:03|         0.74|         2019-12-19|\n|         243|         234|         1|       2|                 2.5|  0.5|       39.5|                  0.3|    0.5|              2|           1|                 N|       8.0|         0.0|        51.3|  2019-12-19 00:38:42| 2019-12-19 00:00:48|        11.26|         2019-12-19|\n|         144|          48|         1|       2|                 2.5|  0.5|       13.0|                  0.3|    0.5|              2|           1|                 N|      2.52|         0.0|       19.32|  2019-12-19 00:15:53| 2019-12-19 00:01:04|         3.54|         2019-12-19|\n|         236|         238|         1|       2|                 2.5|  0.5|        9.0|                  0.3|    0.5|              2|           1|                 N|      2.56|         0.0|       15.36|  2019-12-19 00:11:11| 2019-12-19 00:01:27|          1.7|         2019-12-19|\n|          90|         231|         1|       2|                 2.5|  0.5|        8.0|                  0.3|    0.5|              1|           1|                 N|      2.36|         0.0|       14.16|  2019-12-19 00:10:39| 2019-12-19 00:03:07|         1.79|         2019-12-19|\n|         201|          79|         1|       2|                 2.5|  0.5|       51.5|                  0.3|    0.5|              2|           2|                 N|       0.0|        2.29|       57.59|  2019-12-19 00:52:44| 2019-12-19 00:00:36|        16.11|         2019-12-19|\n|         239|         140|         1|       2|                 2.5|  0.5|        9.0|                  0.3|    0.5|              2|           2|                 N|       0.0|         0.0|        12.8|  2019-12-19 00:10:08| 2019-12-19 00:01:07|         2.07|         2019-12-19|\n|          79|         141|         1|       2|                 2.5|  0.5|       11.0|                  0.3|    0.5|              2|           2|                 N|       0.0|         0.0|        14.8|  2019-12-19 00:09:59| 2019-12-19 00:00:18|          3.3|         2019-12-19|\n|          43|         230|         1|       2|                 2.5|  0.5|       11.5|                  0.3|    0.5|              1|           1|                 N|      4.59|         0.0|       19.89|  2019-12-19 00:15:12| 2019-12-19 00:02:13|          2.7|         2019-12-19|\n|         234|         229|         1|       2|                 2.5|  0.5|        8.5|                  0.3|    0.5|              1|           1|                 N|      3.08|         0.0|       15.38|  2019-12-19 00:10:39| 2019-12-19 00:02:25|         1.94|         2019-12-19|\n|         211|         164|         1|       2|                 2.5|  0.5|        9.0|                  0.3|    0.5|              1|           1|                 N|       3.2|         0.0|        16.0|  2019-12-19 00:10:10| 2019-12-19 00:00:12|         2.03|         2019-12-19|\n|           7|         138|         1|       2|                 0.0|  0.5|       11.0|                  0.3|    0.5|              4|           2|                 N|       0.0|         0.0|        12.3|  2019-12-19 00:13:12| 2019-12-19 00:00:10|         2.92|         2019-12-19|\n|         255|         113|         1|       2|                 2.5|  0.5|       15.5|                  0.3|    0.5|              1|           1|                 N|       2.0|         0.0|        21.3|  2019-12-19 00:17:56| 2019-12-19 00:00:21|         3.37|         2019-12-19|\n|          79|          79|         1|       2|                 2.5|  0.5|        4.5|                  0.3|    0.5|              2|           1|                 N|      1.66|         0.0|        9.96|  2019-12-19 00:05:45| 2019-12-19 00:01:37|         0.49|         2019-12-19|\n|         142|         234|         1|       2|                 2.5|  0.5|       11.0|                  0.3|    0.5|              5|           1|                 N|      2.96|         0.0|       17.76|  2019-12-19 00:13:35| 2019-12-19 00:01:22|         2.49|         2019-12-19|\n|         163|         230|         1|       2|                 2.5|  0.5|        5.5|                  0.3|    0.5|              1|           1|                 N|      1.86|         0.0|       11.16|  2019-12-19 00:06:16| 2019-12-19 00:01:08|         0.75|         2019-12-19|\n|         230|          48|         1|       2|                 2.5|  0.5|        4.5|                  0.3|    0.5|              1|           1|                 N|       0.0|         0.0|         8.3|  2019-12-19 00:04:08| 2019-12-19 00:00:20|         0.36|         2019-12-19|\n|          48|          48|         1|       2|                 2.5|  0.5|        4.0|                  0.3|    0.5|              1|           2|                 N|       0.0|         0.0|         7.8|  2019-12-19 00:03:42| 2019-12-19 00:00:25|          0.4|         2019-12-19|\n|         112|         170|         1|       2|                 2.5|  0.5|       12.5|                  0.3|    0.5|              1|           1|                 N|      4.48|        6.12|        26.9|  2019-12-19 00:15:19| 2019-12-19 00:00:35|         3.23|         2019-12-19|\n+------------+------------+----------+--------+--------------------+-----+-----------+---------------------+-------+---------------+------------+------------------+----------+------------+------------+---------------------+--------------------+-------------+-------------------+\nonly showing top 20 rows\n\n"
     ]
    }
   ],
   "source": [
    "raw_data = spark.read.format(\"json\").option(\"inferSchema\", \"true\").load(\"/databricks-datasets/nyctaxi/sample/json\")\n",
    "raw_data.show()\n"
   ]
  },
  {
   "cell_type": "markdown",
   "metadata": {
    "application/vnd.databricks.v1+cell": {
     "cellMetadata": {},
     "inputWidgets": {},
     "nuid": "67d56e71-8842-48a3-b6b4-d042f6791124",
     "showTitle": false,
     "tableResultSettingsMap": {},
     "title": ""
    }
   },
   "source": [
    "# Silver"
   ]
  },
  {
   "cell_type": "code",
   "execution_count": 0,
   "metadata": {
    "application/vnd.databricks.v1+cell": {
     "cellMetadata": {
      "byteLimit": 2048000,
      "rowLimit": 10000
     },
     "inputWidgets": {},
     "nuid": "3fe89557-0fe2-413c-a1db-c7d09c8fa4fe",
     "showTitle": false,
     "tableResultSettingsMap": {},
     "title": ""
    }
   },
   "outputs": [],
   "source": [
    "from pyspark.sql.functions import col\n",
    "\n",
    "silver_data = raw_data.filter(\"trip_distance > 0 AND fare_amount > 0\")\n",
    "\n",
    "# add col pour la durée du trajet\n",
    "silver_data = silver_data.withColumn(\"trip_duration\", col(\"tpep_dropoff_datetime\").cast(\"long\") - col(\"tpep_pickup_datetime\").cast(\"long\"))\n",
    "\n",
    "# Sauvegarde de la table Silver\n",
    "silver_data.write.format(\"delta\").mode(\"overwrite\").saveAsTable(\"silver_taxi\")\n"
   ]
  },
  {
   "cell_type": "code",
   "execution_count": 0,
   "metadata": {
    "application/vnd.databricks.v1+cell": {
     "cellMetadata": {
      "byteLimit": 2048000,
      "rowLimit": 10000
     },
     "inputWidgets": {},
     "nuid": "d25f7ac8-edc4-46da-b550-0c854f416ff1",
     "showTitle": false,
     "tableResultSettingsMap": {},
     "title": ""
    }
   },
   "outputs": [
    {
     "output_type": "stream",
     "name": "stdout",
     "output_type": "stream",
     "text": [
      "root\n |-- DOLocationID: long (nullable = true)\n |-- PULocationID: long (nullable = true)\n |-- RatecodeID: long (nullable = true)\n |-- VendorID: long (nullable = true)\n |-- congestion_surcharge: double (nullable = true)\n |-- extra: double (nullable = true)\n |-- fare_amount: double (nullable = true)\n |-- improvement_surcharge: double (nullable = true)\n |-- mta_tax: double (nullable = true)\n |-- passenger_count: long (nullable = true)\n |-- payment_type: long (nullable = true)\n |-- store_and_fwd_flag: string (nullable = true)\n |-- tip_amount: double (nullable = true)\n |-- tolls_amount: double (nullable = true)\n |-- total_amount: double (nullable = true)\n |-- tpep_dropoff_datetime: string (nullable = true)\n |-- tpep_pickup_datetime: string (nullable = true)\n |-- trip_distance: double (nullable = true)\n |-- pep_pickup_date_txt: date (nullable = true)\n |-- trip_duration: long (nullable = true)\n\n"
     ]
    }
   ],
   "source": [
    "silver_data.printSchema()\n"
   ]
  },
  {
   "cell_type": "markdown",
   "metadata": {
    "application/vnd.databricks.v1+cell": {
     "cellMetadata": {},
     "inputWidgets": {},
     "nuid": "6ff6dcac-b9b7-45d7-ae26-c0b20b3b5658",
     "showTitle": false,
     "tableResultSettingsMap": {},
     "title": ""
    }
   },
   "source": [
    "# Gold"
   ]
  },
  {
   "cell_type": "code",
   "execution_count": 0,
   "metadata": {
    "application/vnd.databricks.v1+cell": {
     "cellMetadata": {
      "byteLimit": 2048000,
      "rowLimit": 10000
     },
     "inputWidgets": {},
     "nuid": "9eac4934-2825-4c17-8a97-9c153322f95e",
     "showTitle": false,
     "tableResultSettingsMap": {},
     "title": ""
    }
   },
   "outputs": [],
   "source": [
    "from pyspark.sql.functions import avg, count, desc\n",
    "\n",
    "gold_data = silver_data.groupBy(\"PULocationID\").agg(\n",
    "    avg(\"fare_amount\").alias(\"avg_fare\"),\n",
    "    avg(\"trip_distance\").alias(\"avg_distance\"),\n",
    "    count(\"*\").alias(\"total_trips\")\n",
    ")\n",
    "\n",
    "# Sauvegarde des résultats dans la table Gold\n",
    "gold_data.write.format(\"delta\").mode(\"overwrite\").saveAsTable(\"gold_taxi\")\n"
   ]
  },
  {
   "cell_type": "markdown",
   "metadata": {
    "application/vnd.databricks.v1+cell": {
     "cellMetadata": {},
     "inputWidgets": {},
     "nuid": "86bd62f2-3523-4c41-805d-7efbaa845d44",
     "showTitle": false,
     "tableResultSettingsMap": {},
     "title": ""
    }
   },
   "source": [
    "# Partie 4"
   ]
  },
  {
   "cell_type": "code",
   "execution_count": 0,
   "metadata": {
    "application/vnd.databricks.v1+cell": {
     "cellMetadata": {
      "byteLimit": 2048000,
      "implicitDf": true,
      "rowLimit": 10000
     },
     "inputWidgets": {},
     "nuid": "921199e6-db3d-41df-ab12-fb9200111f4f",
     "showTitle": false,
     "tableResultSettingsMap": {},
     "title": ""
    }
   },
   "outputs": [
    {
     "output_type": "display_data",
     "data": {
      "text/html": [
       "<style scoped>\n",
       "  .table-result-container {\n",
       "    max-height: 300px;\n",
       "    overflow: auto;\n",
       "  }\n",
       "  table, th, td {\n",
       "    border: 1px solid black;\n",
       "    border-collapse: collapse;\n",
       "  }\n",
       "  th, td {\n",
       "    padding: 5px;\n",
       "  }\n",
       "  th {\n",
       "    text-align: left;\n",
       "  }\n",
       "</style><div class='table-result-container'><table class='table-result'><thead style='background-color: white'><tr><th>PULocationID</th><th>avg_fare</th><th>total_trips</th></tr></thead><tbody><tr><td>1</td><td>85.9683520599251</td><td>267</td></tr><tr><td>99</td><td>80.5</td><td>2</td></tr><tr><td>23</td><td>77.47641025641026</td><td>39</td></tr><tr><td>5</td><td>74.421875</td><td>32</td></tr><tr><td>176</td><td>73.0</td><td>1</td></tr><tr><td>118</td><td>68.1125</td><td>40</td></tr><tr><td>187</td><td>61.00090909090909</td><td>11</td></tr><tr><td>206</td><td>59.42250000000001</td><td>12</td></tr><tr><td>265</td><td>58.30913253012047</td><td>1660</td></tr><tr><td>156</td><td>56.0625</td><td>8</td></tr></tbody></table></div>"
      ]
     },
     "metadata": {
      "application/vnd.databricks.v1+output": {
       "addedWidgets": {},
       "aggData": [],
       "aggError": "",
       "aggOverflow": false,
       "aggSchema": [],
       "aggSeriesLimitReached": false,
       "aggType": "",
       "arguments": {},
       "columnCustomDisplayInfos": {},
       "data": [
        [
         1,
         85.9683520599251,
         267
        ],
        [
         99,
         80.5,
         2
        ],
        [
         23,
         77.47641025641026,
         39
        ],
        [
         5,
         74.421875,
         32
        ],
        [
         176,
         73.0,
         1
        ],
        [
         118,
         68.1125,
         40
        ],
        [
         187,
         61.00090909090909,
         11
        ],
        [
         206,
         59.42250000000001,
         12
        ],
        [
         265,
         58.30913253012047,
         1660
        ],
        [
         156,
         56.0625,
         8
        ]
       ],
       "datasetInfos": [],
       "dbfsResultPath": null,
       "isJsonSchema": true,
       "metadata": {
        "createTempViewForImplicitDf": true,
        "dataframeName": "_sqldf",
        "executionCount": 16
       },
       "overflow": false,
       "plotOptions": {
        "customPlotOptions": {},
        "displayType": "table",
        "pivotAggregation": null,
        "pivotColumns": null,
        "xColumns": null,
        "yColumns": null
       },
       "removedWidgets": [],
       "schema": [
        {
         "metadata": "{}",
         "name": "PULocationID",
         "type": "\"long\""
        },
        {
         "metadata": "{}",
         "name": "avg_fare",
         "type": "\"double\""
        },
        {
         "metadata": "{}",
         "name": "total_trips",
         "type": "\"long\""
        }
       ],
       "type": "table"
      }
     },
     "output_type": "display_data"
    }
   ],
   "source": [
    "%sql\n",
    "SELECT PULocationID, avg_fare, total_trips\n",
    "FROM gold_taxi\n",
    "ORDER BY avg_fare DESC\n",
    "LIMIT 10;\n"
   ]
  },
  {
   "cell_type": "code",
   "execution_count": 0,
   "metadata": {
    "application/vnd.databricks.v1+cell": {
     "cellMetadata": {},
     "inputWidgets": {},
     "nuid": "94d466d1-c01a-4508-8a2c-231c914f493e",
     "showTitle": false,
     "tableResultSettingsMap": {},
     "title": ""
    }
   },
   "outputs": [],
   "source": []
  }
 ],
 "metadata": {
  "application/vnd.databricks.v1+notebook": {
   "dashboards": [],
   "environmentMetadata": {
    "base_environment": "",
    "client": "1"
   },
   "language": "python",
   "notebookMetadata": {
    "mostRecentlyExecutedCommandWithImplicitDF": {
     "commandId": 3416042294059819,
     "dataframes": [
      "_sqldf"
     ]
    },
    "pythonIndentUnit": 4
   },
   "notebookName": "Lab4- Pipeline",
   "widgets": {}
  },
  "language_info": {
   "name": "python"
  }
 },
 "nbformat": 4,
 "nbformat_minor": 0
}
